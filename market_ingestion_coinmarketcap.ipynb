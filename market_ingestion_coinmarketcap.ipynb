{
 "cells": [
  {
   "cell_type": "code",
   "execution_count": 1,
   "metadata": {
    "collapsed": true
   },
   "outputs": [],
   "source": [
    "# Libraries\n",
    "import urllib.request\n",
    "import json\n",
    "import time as tm\n",
    "import io\n",
    "from time import sleep\n",
    "import datetime as dt\n",
    "\n",
    "from coinmarketcap import Market"
   ]
  },
  {
   "cell_type": "code",
   "execution_count": 2,
   "metadata": {
    "collapsed": true
   },
   "outputs": [],
   "source": [
    "class MarketListener():\n",
    "    \"\"\"\n",
    "    The MarketListener class is used to write the market from the coinmarketcap API\n",
    "    \"\"\"\n",
    "\n",
    "    def __init__(self,api,time_limit,batch_market_filename,streaming_market_filename,batch_summary_market_filename,streaming_summary_market_filename):\n",
    "        self.batch_market_file = io.open(batch_market_filename, 'a')\n",
    "        self.streaming_market_file = io.open(streaming_market_filename, 'w')\n",
    "        \n",
    "        self.batch_summary_market_file = io.open(batch_summary_market_filename, 'a')\n",
    "        self.streaming_summary_market_file = io.open(streaming_summary_market_filename, 'w')\n",
    "        \n",
    "        self.start_time = tm.time()\n",
    "        self.limit = time_limit\n",
    "        self.api = api\n",
    "        \n",
    "    def get_ticker(self): \n",
    "        \"\"\"\n",
    "        Get the 100 first tickers  \n",
    "        \"\"\"\n",
    "        return self.api.ticker(limit=100)\n",
    "    \n",
    "    def get_summary(self):\n",
    "        \"\"\"\n",
    "        Get the summary about the market\n",
    "        \"\"\"\n",
    "        return self.api.stats()\n",
    "        \n",
    "    def on_data(self):\n",
    "        \"\"\"\n",
    "        Write the market in the batch & streaming files\n",
    "        \"\"\"\n",
    "        if (tm.time() - self.start_time) < self.limit:       \n",
    "            ticker_market = MarketListener.get_ticker(self) \n",
    "            summary_market = MarketListener.get_summary(self) \n",
    "            \n",
    "            self.batch_market_file.write(json.dumps(ticker_market))\n",
    "            self.batch_market_file.write(\"\\n\")\n",
    "            \n",
    "            self.batch_summary_market_file.write(json.dumps(summary_market))\n",
    "            self.batch_summary_market_file.write(\"\\n\")\n",
    "            \n",
    "            self.streaming_market_file.write(json.dumps(ticker_market))\n",
    "            self.streaming_market_file.write(\"\\n\")\n",
    "            \n",
    "            self.streaming_summary_market_file.write(json.dumps(summary_market))\n",
    "            self.streaming_summary_market_file.write(\"\\n\")\n",
    "            \n",
    "            tm.sleep(60)\n",
    "            return True\n",
    "        else:\n",
    "            self.batch_market_file.close()\n",
    "            self.streaming_market_file.close()\n",
    "            \n",
    "            self.batch_summary_market_file.close()\n",
    "            self.streaming_summary_market_file.close()\n",
    "            return False\n",
    "        \n",
    "    def streaming(self):\n",
    "        \"\"\"\n",
    "        Define the streaming \n",
    "        \"\"\"\n",
    "        while MarketListener.on_data(self) == True:\n",
    "            continue\n",
    "            "
   ]
  }
 ],
 "metadata": {
  "kernelspec": {
   "display_name": "Python [default]",
   "language": "python",
   "name": "python3"
  },
  "language_info": {
   "codemirror_mode": {
    "name": "ipython",
    "version": 3
   },
   "file_extension": ".py",
   "mimetype": "text/x-python",
   "name": "python",
   "nbconvert_exporter": "python",
   "pygments_lexer": "ipython3",
   "version": "3.6.4"
  }
 },
 "nbformat": 4,
 "nbformat_minor": 2
}
