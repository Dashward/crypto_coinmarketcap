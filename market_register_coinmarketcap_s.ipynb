{
 "cells": [
  {
   "cell_type": "code",
   "execution_count": 1,
   "metadata": {
    "collapsed": true
   },
   "outputs": [],
   "source": [
    "import json"
   ]
  },
  {
   "cell_type": "code",
   "execution_count": 2,
   "metadata": {
    "collapsed": true
   },
   "outputs": [],
   "source": [
    "def get_data(filename):\n",
    "    \"\"\"\n",
    "    Get the dataframe\n",
    "    \"\"\"\n",
    "    file = open(filename)\n",
    "    data = []\n",
    "    for line in file:\n",
    "        try:\n",
    "            data.append(json.loads(line))\n",
    "        except:\n",
    "            continue\n",
    "    return data\n",
    "  \n",
    "    \n",
    "class SummaryMarketRegister():\n",
    "    \"\"\"\n",
    "    The SummaryMarketRegister is used to create the dataframe of the summary of the market\n",
    "    \"\"\"\n",
    "    \n",
    "    def __init__(self,filename):   \n",
    "        data_summary_market = get_data(filename)\n",
    "        self.active_assets = list(map(lambda row: row[\"active_assets\"], data_summary_market))\n",
    "        self.active_currencies = list(map(lambda row: row[\"active_currencies\"], data_summary_market))\n",
    "        self.active_markets = list(map(lambda row: row[\"active_markets\"], data_summary_market))\n",
    "        self.bitcoin_percentage_of_market_cap = list(map(lambda row: row[\"bitcoin_percentage_of_market_cap\"], data_summary_market))\n",
    "        self.cached = list(map(lambda row: row[\"cached\"], data_summary_market))\n",
    "        self.last_updated = list(map(lambda row: row[\"last_updated\"], data_summary_market))\n",
    "        self.total_24h_volume_usd = list(map(lambda row: row[\"total_24h_volume_usd\"], data_summary_market))\n",
    "        self.total_market_cap_usd = list(map(lambda row: row[\"total_market_cap_usd\"], data_summary_market))\n",
    "    \n",
    "    def build_data(self):\n",
    "        \"\"\"\n",
    "        Build the data with the summary of the market\n",
    "        \"\"\"\n",
    "        dict_summary_market = dict(active_assets = self.active_assets,\n",
    "                  active_currencies = self.active_currencies,\n",
    "                  active_markets = self.active_markets,\n",
    "                  bitcoin_percentage_of_market_cap = self.bitcoin_percentage_of_market_cap,\n",
    "                  cached = self.cached,\n",
    "                  last_updated = self.last_updated,\n",
    "                  total_24h_volume_usd = self.total_24h_volume_usd,\n",
    "                  total_market_cap_usd = self.total_market_cap_usd,\n",
    "                 )\n",
    "        return dict_summary_market     "
   ]
  },
  {
   "cell_type": "code",
   "execution_count": 3,
   "metadata": {
    "collapsed": true
   },
   "outputs": [],
   "source": [
    "if __name__ == '__main__':\n",
    "    register = SummaryMarketRegister(filename='raw_summary_market_batch3.json')\n",
    "    summary_market = register.build_data()"
   ]
  },
  {
   "cell_type": "code",
   "execution_count": null,
   "metadata": {
    "collapsed": true
   },
   "outputs": [],
   "source": []
  }
 ],
 "metadata": {
  "kernelspec": {
   "display_name": "Python 3",
   "language": "python",
   "name": "python3"
  },
  "language_info": {
   "codemirror_mode": {
    "name": "ipython",
    "version": 3
   },
   "file_extension": ".py",
   "mimetype": "text/x-python",
   "name": "python",
   "nbconvert_exporter": "python",
   "pygments_lexer": "ipython3",
   "version": "3.6.1"
  }
 },
 "nbformat": 4,
 "nbformat_minor": 2
}
