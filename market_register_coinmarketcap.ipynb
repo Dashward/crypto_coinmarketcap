{
 "cells": [
  {
   "cell_type": "code",
   "execution_count": 2,
   "metadata": {
    "collapsed": true
   },
   "outputs": [],
   "source": [
    "import json"
   ]
  },
  {
   "cell_type": "code",
   "execution_count": 3,
   "metadata": {
    "collapsed": true
   },
   "outputs": [],
   "source": [
    "def get_data(filename):\n",
    "    \"\"\"\n",
    "    Get the dataframe\n",
    "    \"\"\"\n",
    "    file = open(filename)\n",
    "    data = []\n",
    "    for line in file:\n",
    "        try:\n",
    "            data.append(json.loads(line))\n",
    "        except:\n",
    "            continue\n",
    "    return data\n",
    "  \n",
    "    \n",
    "class MarketRegister():\n",
    "    \"\"\"\n",
    "    The MarketRegister is used to create the dataframe of the market\n",
    "    \"\"\"\n",
    "    \n",
    "    def __init__(self,filename):   \n",
    "        data_market = get_data(filename)\n",
    "        self.id = list(map(lambda row: [row[i][\"id\"] for i in range(len(row))], data_market))\n",
    "        self.name = list(map(lambda row: [row[i][\"name\"] for i in range(len(row))], data_market))\n",
    "        self.symbol = list(map(lambda row: [row[i][\"symbol\"] for i in range(len(row))], data_market))\n",
    "        self.rank = list(map(lambda row: [int(row[i][\"rank\"]) if row[i][\"rank\"] != None else None for i in range(len(row))], data_market))\n",
    "        self.price_usd = list(map(lambda row: [float(row[i][\"price_usd\"]) if row[i][\"price_usd\"] != None else None for i in range(len(row))], data_market))\n",
    "        self.price_btc = list(map(lambda row: [float(row[i][\"price_btc\"]) if row[i][\"price_btc\"] != None else None for i in range(len(row))], data_market))\n",
    "        self.volume_24h_usd = list(map(lambda row: [float(row[i][\"24h_volume_usd\"]) if row[i][\"24h_volume_usd\"] != None else None for i in range(len(row))], data_market))\n",
    "        self.market_cap_usd = list(map(lambda row: [float(row[i][\"market_cap_usd\"]) if row[i][\"market_cap_usd\"] != None else None for i in range(len(row))], data_market))\n",
    "        self.available_supply = list(map(lambda row: [float(row[i][\"available_supply\"]) if row[i][\"available_supply\"] != None else None for i in range(len(row))], data_market))\n",
    "        self.total_supply = list(map(lambda row: [float(row[i][\"total_supply\"]) if row[i][\"total_supply\"] != None else None for i in range(len(row))], data_market)) \n",
    "        self.max_supply = list(map(lambda row: [float(row[i][\"max_supply\"]) if row[i][\"max_supply\"] != None else None for i in range(len(row))], data_market))\n",
    "        self.percent_change_1h = list(map(lambda row: [float(row[i][\"percent_change_1h\"]) if row[i][\"percent_change_1h\"] != None else None for i in range(len(row))], data_market)) \n",
    "        self.percent_change_24h = list(map(lambda row: [float(row[i][\"percent_change_24h\"]) if row[i][\"percent_change_24h\"] != None else None for i in range(len(row))], data_market))\n",
    "        self.percent_change_7d = list(map(lambda row: [float(row[i][\"percent_change_7d\"]) if row[i][\"percent_change_7d\"] != None else None for i in range(len(row))], data_market))\n",
    "        self.last_updated = list(map(lambda row: [int(row[i][\"last_updated\"]) if row[i][\"last_updated\"] != None else None for i in range(len(row))], data_market))\n",
    "        self.cached = list(map(lambda row: [row[i][\"cached\"] for i in range(len(row))], data_market))\n",
    "           \n",
    "    def unlist(varlist):\n",
    "        \"\"\"\n",
    "        Create a list from a list of lists\n",
    "        \"\"\"\n",
    "        return [j  for i in varlist for j in i]\n",
    "    \n",
    "    def build_data(self):\n",
    "        \"\"\"\n",
    "        Build the data with the market\n",
    "        \"\"\"\n",
    "        self.id = MarketRegister.unlist(self.id)\n",
    "        self.name = MarketRegister.unlist(self.name)\n",
    "        self.symbol = MarketRegister.unlist(self.symbol)\n",
    "        self.rank = MarketRegister.unlist(self.rank)\n",
    "        self.price_usd = MarketRegister.unlist(self.price_usd)\n",
    "        self.price_btc = MarketRegister.unlist(self.price_btc)\n",
    "        self.volume_24h_usd = MarketRegister.unlist(self.volume_24h_usd)\n",
    "        self.market_cap_usd = MarketRegister.unlist(self.market_cap_usd)\n",
    "        self.available_supply = MarketRegister.unlist(self.available_supply)\n",
    "        self.total_supply = MarketRegister.unlist(self.total_supply)  \n",
    "        self.max_supply = MarketRegister.unlist(self.max_supply)\n",
    "        self.percent_change_1h = MarketRegister.unlist(self.percent_change_1h)\n",
    "        self.percent_change_24h = MarketRegister.unlist(self.percent_change_24h)\n",
    "        self.percent_change_7d = MarketRegister.unlist(self.percent_change_7d)\n",
    "        self.last_updated = MarketRegister.unlist(self.last_updated)\n",
    "        self.cached = MarketRegister.unlist(self.cached)\n",
    "        \n",
    "        dict_market = dict(id = self.id,\n",
    "                  name = self.name,\n",
    "                  symbol = self.symbol,\n",
    "                  rank = self.rank,\n",
    "                  price_usd = self.price_usd,\n",
    "                  price_btc = self.price_btc,\n",
    "                  volume_24h_usd = self.volume_24h_usd,\n",
    "                  market_cap_usd = self.market_cap_usd,\n",
    "                  available_supply = self.available_supply,\n",
    "                  total_supply = self.total_supply,\n",
    "                  max_supply = self.max_supply,\n",
    "                  percent_change_1h = self.percent_change_1h,\n",
    "                  percent_change_24h = self.percent_change_24h,\n",
    "                  percent_change_7d = self.percent_change_7d,\n",
    "                  last_updated = self.last_updated,\n",
    "                  cached = self.cached\n",
    "                 )\n",
    "        return dict_market     "
   ]
  },
  {
   "cell_type": "code",
   "execution_count": 4,
   "metadata": {
    "collapsed": true
   },
   "outputs": [],
   "source": [
    "if __name__ == '__main__':\n",
    "    register = MarketRegister(filename='raw_market_batch3.json')\n",
    "    market = register.build_data()"
   ]
  },
  {
   "cell_type": "code",
   "execution_count": null,
   "metadata": {
    "collapsed": true
   },
   "outputs": [],
   "source": []
  }
 ],
 "metadata": {
  "kernelspec": {
   "display_name": "Python 3",
   "language": "python",
   "name": "python3"
  },
  "language_info": {
   "codemirror_mode": {
    "name": "ipython",
    "version": 3
   },
   "file_extension": ".py",
   "mimetype": "text/x-python",
   "name": "python",
   "nbconvert_exporter": "python",
   "pygments_lexer": "ipython3",
   "version": "3.6.1"
  }
 },
 "nbformat": 4,
 "nbformat_minor": 2
}
